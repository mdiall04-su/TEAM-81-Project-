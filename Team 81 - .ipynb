{
 "cells": [
  {
   "cell_type": "code",
   "execution_count": 4,
   "metadata": {},
   "outputs": [],
   "source": [
    "import matplotlib.pyplot as plt\n",
    "import numpy as np\n",
    "import pandas as pd\n",
    "df=pd.DataFrame({'x': range(1,11), 'y': np.random.randn(10) })"
   ]
  },
  {
   "cell_type": "code",
   "execution_count": 3,
   "metadata": {},
   "outputs": [
    {
     "data": {
      "image/png": "[encoded data removed]",
      "text/plain": [
       "<Figure size 432x288 with 1 Axes>"
      ]
     },
     "metadata": {
      "needs_background": "dark"
     },
     "output_type": "display_data"
    }
   ],
   "source": [
    "# libraries\n",
    "import numpy as np\n",
    "import matplotlib.pyplot as plt\n",
    " \n",
    "# Choose the height of the bars\n",
    "height = [3, 12, 5, 18, 45]\n",
    " \n",
    "# Choose the names of the bars\n",
    "bars = ('group1', 'group2', 'group3', 'group4', 'group5')\n",
    "y_pos = np.arange(len(bars))\n",
    " \n",
    "# Create bars\n",
    "plt.bar(y_pos, height)\n",
    " \n",
    "# Create names on the x-axis\n",
    "plt.xticks(y_pos, bars, color='orange')\n",
    "plt.yticks(color='orange')\n",
    " \n",
    "# Show graphic\n",
    "plt.show()\n"
   ]
  },
  {
   "cell_type": "code",
   "execution_count": 5,
   "metadata": {},
   "outputs": [
    {
     "data": {
      "image/png": "[encoded data removed]",
      "text/plain": [
       "<Figure size 432x288 with 1 Axes>"
      ]
     },
     "metadata": {
      "needs_background": "light"
     },
     "output_type": "display_data"
    },
    {
     "data": {
      "text/plain": [
       "[<matplotlib.lines.Line2D at 0x11c45e978>]"
      ]
     },
     "execution_count": 5,
     "metadata": {},
     "output_type": "execute_result"
    },
    {
     "data": {
      "image/png": "[encoded data removed]",
      "text/plain": [
       "<Figure size 432x288 with 1 Axes>"
      ]
     },
     "metadata": {
      "needs_background": "light"
     },
     "output_type": "display_data"
    }
   ],
   "source": [
    "# library\n",
    "import numpy as np\n",
    "import matplotlib.pyplot as plt\n",
    " \n",
    "# create data\n",
    "x=range(1,15)\n",
    "y=[1,4,6,8,4,5,3,2,4,1,5,6,8,7]\n",
    " \n",
    "# Change the color and its transparency\n",
    "plt.fill_between( x, y, color=\"skyblue\", alpha=0.4)\n",
    "plt.show()\n",
    " \n",
    "# Same, but add a stronger line on top (edge)\n",
    "plt.fill_between( x, y, color=\"skyblue\", alpha=0.2)\n",
    "plt.plot(x, y, color=\"Slateblue\", alpha=0.6)\n",
    "# See the line plot function to learn how to customize the plt.plot function\n"
   ]
  },
  {
   "cell_type": "code",
   "execution_count": 1,
   "metadata": {},
   "outputs": [
    {
     "name": "stdout",
     "output_type": "stream",
     "text": [
      "hot-100 chart from 2018-12-01\n",
      "-----------------------------\n",
      "1. 'Thank U, Next' by Ariana Grande\n",
      "2. 'Sicko Mode' by Travis Scott\n",
      "3. 'Happier' by Marshmello & Bastille\n",
      "4. 'Without Me' by Halsey\n",
      "5. 'Lucid Dreams' by Juice WRLD\n",
      "6. 'High Hopes' by Panic! At The Disco\n",
      "7. 'Mo Bamba' by Sheck Wes\n",
      "8. 'Girls Like You' by Maroon 5 Featuring Cardi B\n",
      "9. 'Drip Too Hard' by Lil Baby & Gunna\n",
      "10. 'ZEZE' by Kodak Black Featuring Travis Scott & Offset\n",
      "11. 'Better Now' by Post Malone\n",
      "12. 'Youngblood' by 5 Seconds Of Summer\n",
      "13. 'Breathin' by Ariana Grande\n",
      "14. 'Wake Up In The Sky' by Gucci Mane X Bruno Mars X Kodak Black\n",
      "15. 'Trip' by Ella Mai\n",
      "16. 'Sunflower (Spider-Man: Into The Spider-Verse)' by Post Malone & Swae Lee\n",
      "17. 'Eastside' by Benny Blanco, Halsey & Khalid\n",
      "18. 'MIA' by Bad Bunny Featuring Drake\n",
      "19. 'Love Lies' by Khalid & Normani\n",
      "20. 'Natural' by Imagine Dragons\n",
      "21. 'Money' by Cardi B\n",
      "22. 'Taki Taki' by DJ Snake Featuring Selena Gomez, Ozuna & Cardi B\n",
      "23. 'Shallow' by Lady Gaga & Bradley Cooper\n",
      "24. 'I Like It' by Cardi B, Bad Bunny & J Balvin\n",
      "25. 'In My Feelings' by Drake\n",
      "26. 'God Is A Woman' by Ariana Grande\n",
      "27. 'Taste' by Tyga Featuring Offset\n",
      "28. 'Leave Me Alone' by Flipp Dinero\n",
      "29. 'All I Want For Christmas Is You' by Mariah Carey\n",
      "30. 'Beautiful' by Bazzi Featuring Camila Cabello\n",
      "31. 'Yes Indeed' by Lil Baby & Drake\n",
      "32. 'Nonstop' by Drake\n",
      "33. 'Speechless' by Dan + Shay\n",
      "34. 'She Got The Best Of Me' by Luke Combs\n",
      "35. 'Broken' by lovelytheband\n",
      "36. 'Tequila' by Dan + Shay\n",
      "37. 'Uproar' by Lil Wayne\n",
      "38. 'FEFE' by 6ix9ine Featuring Nicki Minaj & Murda Beatz\n",
      "39. 'BAD!' by XXXTENTACION\n",
      "40. 'Lose It' by Kane Brown\n",
      "41. 'Ring' by Cardi B Featuring Kehlani\n",
      "42. 'Boo'd Up' by Ella Mai\n",
      "43. 'Better' by Khalid\n",
      "44. 'I Like Me Better' by Lauv\n",
      "45. 'Psycho' by Post Malone Featuring Ty Dolla $ign\n",
      "46. 'Sad!' by XXXTENTACION\n",
      "47. 'Best Shot' by Jimmie Allen\n",
      "48. 'Lie' by NF\n",
      "49. 'Arms Around You' by XXXTENTACION x Lil Pump Featuring Maluma & Swae Lee\n",
      "50. 'Bohemian Rhapsody' by Queen\n",
      "51. 'Dangerous' by Meek Mill Featuring Jeremih & PnB Rock\n",
      "52. 'When The Party's Over' by Billie Eilish\n",
      "53. 'Armed And Dangerous' by Juice WRLD\n",
      "54. 'Lost In Japan' by Shawn Mendes X Zedd\n",
      "55. 'Drunk Me' by Mitchell Tenpenny\n",
      "56. 'That's On Me' by Yella Beezy\n",
      "57. 'Close Friends' by Lil Baby\n",
      "58. 'You Say' by Lauren Daigle\n",
      "59. 'I'm A Mess' by Bebe Rexha\n",
      "60. 'Smile (Living My Best Life)' by Lil' Duval Featuring Snoop Dogg & Ball Greezy\n",
      "61. 'Topanga' by Trippie Redd\n",
      "62. 'Rich' by Maren Morris\n",
      "63. '10 Freaky Girls' by Metro Boomin Featuring 21 Savage\n",
      "64. 'Fine China' by Future & Juice WRLD\n",
      "65. 'Backin' It Up' by Pardison Fontaine Featuring Cardi B\n",
      "66. 'No Stylist' by French Montana Featuring Drake\n",
      "67. 'Hangin' On' by Chris Young\n",
      "68. '1400 / 999 Freestyle' by Trippie Redd Featuring Juice WRLD\n",
      "69. 'Burning Man' by Dierks Bentley Featuring Brothers Osborne\n",
      "70. 'Never Recover' by Lil Baby & Gunna Featuring Drake\n",
      "71. 'Dip' by Tyga & Nicki Minaj\n",
      "72. 'Talk To Me' by Tory Lanez & Rich The Kid\n",
      "73. 'This Feeling' by The Chainsmokers Featuring Kelsea Ballerini\n",
      "74. 'Space Cadet' by Metro Boomin Featuring Gunna\n",
      "75. 'I Love It' by Kanye West & Lil Pump\n",
      "76. 'Be Alright' by Dean Lewis\n",
      "77. 'Blue Tacoma' by Russell Dickerson\n",
      "78. 'Don't Come Out The House' by Metro Boomin Featuring 21 Savage\n",
      "79. 'Ella Quiere Beber' by Anuel AA & Romeo Santos\n",
      "80. 'Lovely' by Billie Eilish & Khalid\n",
      "81. 'Take One' by Kodak Black\n",
      "82. 'Consequences' by Camila Cabello\n",
      "83. 'Best Part' by Daniel Caesar Featuring H.E.R.\n",
      "84. 'Falling Down' by Lil Peep & XXXTENTACION\n",
      "85. 'Stoopid' by 6ix9ine Featuring Bobby Shmurda\n",
      "86. 'W O R K I N  M E' by Quavo\n",
      "87. 'Sixteen' by Thomas Rhett\n",
      "88. 'Good Girl' by Dustin Lynch\n",
      "89. 'Lucky You' by Eminem Featuring Joyner Lucas\n",
      "90. 'Last Shot' by Kip Moore\n",
      "91. 'Mona Lisa' by Lil Wayne Featuring Kendrick Lamar\n",
      "92. 'Twerk' by City Girls Featuring Cardi B\n",
      "93. 'Noticed' by Lil Mosey\n",
      "94. 'Electricity' by Silk City x Dua Lipa\n",
      "95. 'Desperate Man' by Eric Church\n",
      "96. 'Millionaire' by Chris Stapleton\n",
      "97. 'Ocean Eyes' by Billie Eilish\n",
      "98. 'Close To Me' by Ellie Goulding X Diplo Featuring Swae Lee\n",
      "99. 'Girl Like You' by Jason Aldean\n",
      "100. 'Burn The House Down' by AJR\n"
     ]
    }
   ],
   "source": [
    "import billboard\n",
    "chart = billboard.ChartData('hot-100')\n",
    "print(chart)"
   ]
  },
  {
   "cell_type": "code",
   "execution_count": null,
   "metadata": {},
   "outputs": [],
   "source": []
  }
 ],
 "metadata": {
  "kernelspec": {
   "display_name": "Python 3",
   "language": "python",
   "name": "python3"
  },
  "language_info": {
   "codemirror_mode": {
    "name": "ipython",
    "version": 3
   },
   "file_extension": ".py",
   "mimetype": "text/x-python",
   "name": "python",
   "nbconvert_exporter": "python",
   "pygments_lexer": "ipython3",
   "version": "3.7.1"
  }
 },
 "nbformat": 4,
 "nbformat_minor": 2
}
